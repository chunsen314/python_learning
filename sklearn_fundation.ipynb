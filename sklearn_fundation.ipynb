{
 "cells": [
  {
   "cell_type": "markdown",
   "metadata": {},
   "source": [
    "# **sklearn基础**"
   ]
  },
  {
   "cell_type": "markdown",
   "metadata": {},
   "source": [
    "## 1. 导入模块"
   ]
  },
  {
   "cell_type": "code",
   "execution_count": 1,
   "metadata": {},
   "outputs": [],
   "source": [
    "import numpy as np\n",
    "from sklearn.datasets import load_iris\n",
    "iris_datasets = load_iris()\n",
    "from sklearn.model_selection import train_test_split\n",
    "from sklearn.neighbors import KNeighborsClassifier as KNC"
   ]
  },
  {
   "cell_type": "markdown",
   "metadata": {},
   "source": [
    "## 2. 数据结构"
   ]
  },
  {
   "cell_type": "markdown",
   "metadata": {},
   "source": [
    "#### **数据结构可用以下方法编写：**\n",
    "```python\n",
    "Class dataset:\n",
    "    def __init__(self):\n",
    "        data = \n",
    "        target = \n",
    "        target_names = \n",
    "        DESCR = \n",
    "        feature_names = \n",
    "        filename = \n",
    "```"
   ]
  },
  {
   "cell_type": "code",
   "execution_count": 2,
   "metadata": {},
   "outputs": [
    {
     "name": "stdout",
     "output_type": "stream",
     "text": [
      "dict_keys(['data', 'target', 'target_names', 'DESCR', 'feature_names', 'filename'])\n"
     ]
    }
   ],
   "source": [
    "print(iris_datasets.keys())"
   ]
  },
  {
   "cell_type": "markdown",
   "metadata": {},
   "source": [
    "## 3. 数据集特性"
   ]
  },
  {
   "cell_type": "code",
   "execution_count": 3,
   "metadata": {},
   "outputs": [
    {
     "name": "stdout",
     "output_type": "stream",
     "text": [
      "\n",
      "----------------------------------------------------------------------------\n",
      "\n",
      "First five rows of data:\n",
      "[[5.1 3.5 1.4 0.2]\n",
      " [4.9 3.  1.4 0.2]\n",
      " [4.7 3.2 1.3 0.2]\n",
      " [4.6 3.1 1.5 0.2]\n",
      " [5.  3.6 1.4 0.2]]\n",
      "Shape:(150, 4)\n",
      "Feature names:['sepal length (cm)', 'sepal width (cm)', 'petal length (cm)', 'petal width (cm)']\n",
      "\n",
      "----------------------------------------------------------------------------\n",
      "\n",
      "Target sets:\n",
      "[0 0 0 0 0 0 0 0 0 0 0 0 0 0 0 0 0 0 0 0 0 0 0 0 0 0 0 0 0 0 0 0 0 0 0 0 0\n",
      " 0 0 0 0 0 0 0 0 0 0 0 0 0 1 1 1 1 1 1 1 1 1 1 1 1 1 1 1 1 1 1 1 1 1 1 1 1\n",
      " 1 1 1 1 1 1 1 1 1 1 1 1 1 1 1 1 1 1 1 1 1 1 1 1 1 1 2 2 2 2 2 2 2 2 2 2 2\n",
      " 2 2 2 2 2 2 2 2 2 2 2 2 2 2 2 2 2 2 2 2 2 2 2 2 2 2 2 2 2 2 2 2 2 2 2 2 2\n",
      " 2 2]\n",
      "Shape:(150,)\n",
      "Target names:['setosa' 'versicolor' 'virginica']\n",
      "\n",
      "----------------------------------------------------------------------------\n",
      "\n"
     ]
    }
   ],
   "source": [
    "print('\\n----------------------------------------------------------------------------\\n')\n",
    "print('First five rows of data:')\n",
    "print(iris_datasets.data[:5])\n",
    "print('Shape:{}'.format(iris_datasets.data.shape))\n",
    "print('Feature names:{}'.format(iris_datasets.feature_names))\n",
    "print('\\n----------------------------------------------------------------------------\\n')\n",
    "print('Target sets:')\n",
    "print(iris_datasets.target)\n",
    "print('Shape:{}'.format(iris_datasets.target.shape))\n",
    "print('Target names:{}'.format(iris_datasets.target_names))\n",
    "print('\\n----------------------------------------------------------------------------\\n')"
   ]
  },
  {
   "cell_type": "code",
   "execution_count": 4,
   "metadata": {},
   "outputs": [
    {
     "name": "stdout",
     "output_type": "stream",
     "text": [
      "data:<class 'numpy.ndarray'>\n",
      "target:<class 'numpy.ndarray'>\n"
     ]
    }
   ],
   "source": [
    "print('data:{}'.format(type(iris_datasets.data)))\n",
    "print('target:{}'.format(type(iris_datasets.target)))"
   ]
  },
  {
   "cell_type": "markdown",
   "metadata": {},
   "source": [
    "## 4. 创建训练集和测试集"
   ]
  },
  {
   "cell_type": "markdown",
   "metadata": {},
   "source": [
    "#### **train_test_split参数选择:**\n",
    "`random_state = type(int)`: 伪随机参数    \n",
    "`stratify = type(numpy)`：传入某个target集合，使训练集和测试集中各类别数据的占比与此target集合相同    \n",
    "`shuffle = type(bool)`: 数据集是否被打乱，默认为True    \n",
    "`test_size = type(float) or type(int)`: 确定测试集的大小。输入小于1的数为测试集的占比，输入整数则为测试集的个数"
   ]
  },
  {
   "cell_type": "code",
   "execution_count": 5,
   "metadata": {},
   "outputs": [
    {
     "name": "stdout",
     "output_type": "stream",
     "text": [
      "Shape of traing set:\n",
      "(112, 4)\n",
      "(112,)\n",
      "\n",
      "\n",
      "Shape of testing set:\n",
      "(38, 4)\n",
      "(38,)\n"
     ]
    }
   ],
   "source": [
    "X_train, X_test, y_train, y_test = train_test_split(iris_datasets.data, iris_datasets.target, \n",
    "                                                   random_state=0)\n",
    "print('Shape of traing set:')\n",
    "print(X_train.shape)\n",
    "print(y_train.shape)\n",
    "print('\\n')\n",
    "print('Shape of testing set:')\n",
    "print(X_test.shape)\n",
    "print(y_test.shape)"
   ]
  },
  {
   "cell_type": "markdown",
   "metadata": {},
   "source": [
    "## 5. 模型建立与预测"
   ]
  },
  {
   "cell_type": "code",
   "execution_count": 6,
   "metadata": {},
   "outputs": [
    {
     "data": {
      "text/plain": [
       "KNeighborsClassifier(algorithm='auto', leaf_size=30, metric='minkowski',\n",
       "                     metric_params=None, n_jobs=None, n_neighbors=1, p=2,\n",
       "                     weights='uniform')"
      ]
     },
     "execution_count": 6,
     "metadata": {},
     "output_type": "execute_result"
    }
   ],
   "source": [
    "knn = KNC(n_neighbors=1)\n",
    "knn.fit(X_train, y_train)"
   ]
  },
  {
   "cell_type": "code",
   "execution_count": 7,
   "metadata": {},
   "outputs": [
    {
     "name": "stdout",
     "output_type": "stream",
     "text": [
      "<class 'numpy.ndarray'>\n",
      "setosa\n",
      "\n",
      "\n",
      "predict again:\n",
      "prediciton:\n",
      "[2 1 0 2 0 2 0 1 1 1 2 1 1 1 1 0 1 1 0 0 2 1 0 0 2 0 0 1 1 0 2 1 0 2 2 1 0\n",
      " 2]\n",
      "y_test:\n",
      "[2 1 0 2 0 2 0 1 1 1 2 1 1 1 1 0 1 1 0 0 2 1 0 0 2 0 0 1 1 0 2 1 0 2 2 1 0\n",
      " 1]\n",
      "\n",
      "\n",
      "Accuracy:0.9736842105263158\n"
     ]
    }
   ],
   "source": [
    "X_new = np.array([[5, 2.9, 1, 0.2]])\n",
    "prediction = knn.predict(X_new)\n",
    "print(type(prediction))\n",
    "print(iris_datasets.target_names[prediction[0]])\n",
    "print('\\n')\n",
    "print('predict again:')\n",
    "prediction = knn.predict(X_test)\n",
    "print('prediciton:')\n",
    "print(prediction)\n",
    "print('y_test:')\n",
    "print(y_test)\n",
    "print('\\n')\n",
    "accuracy = knn.score(X_test, y_test)\n",
    "print('Accuracy:' + str(accuracy))"
   ]
  },
  {
   "cell_type": "code",
   "execution_count": null,
   "metadata": {},
   "outputs": [],
   "source": []
  }
 ],
 "metadata": {
  "kernelspec": {
   "display_name": "Python 3",
   "language": "python",
   "name": "python3"
  },
  "language_info": {
   "codemirror_mode": {
    "name": "ipython",
    "version": 3
   },
   "file_extension": ".py",
   "mimetype": "text/x-python",
   "name": "python",
   "nbconvert_exporter": "python",
   "pygments_lexer": "ipython3",
   "version": "3.7.6"
  }
 },
 "nbformat": 4,
 "nbformat_minor": 4
}
