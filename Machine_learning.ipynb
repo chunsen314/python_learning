{
 "cells": [
  {
   "cell_type": "markdown",
   "metadata": {},
   "source": [
    "# 机器学习算法实例"
   ]
  },
  {
   "cell_type": "markdown",
   "metadata": {},
   "source": [
    "> ## 案例说明    \n",
    "> - 利用3KeyMaster仿真机模拟下泄管道破裂事故（LD）、回路冷却剂管道冷管段破口（LOCA）、稳压器泄压阀误开事故（PORV）、蒸汽发生器传热管道破裂事故（SGTR）事故，用机器学习模型对事故发生的位置（即`事故类型`）和`事故严重程度`进行预测。    \n",
    "> - `事故严重程度`选取100%破口、50%破口、20%破口、10%破口，与`事故类型`组合出16个`事故序列`进行预测。   \n",
    "> - 每个`事故序列`的样本数量如下：\n",
    "|事故严重程度|100%|50%|20%|10%|\n",
    "|---|---|---|---|---|\n",
    "|LD|401|406|406|409|\n",
    "|LOCA|96|405|540|402|\n",
    "|PORV|401|406|406|412|\n",
    "|SGTR|401|406|406|407|\n",
    "> -每个样本选择电厂运行中的31个特征参数。特征名称已封装到`class Data`中的`parameter_names`中。\n",
    "> -本案例忽略参数搜索算法，如在线性模型中的`梯度下降算法`。\n",
    "\n",
    "\n",
    "\n",
    "\n"
   ]
  },
  {
   "cell_type": "code",
   "execution_count": 2,
   "metadata": {},
   "outputs": [],
   "source": [
    "import os\n",
    "import openpyxl\n",
    "import numpy as np\n",
    "import matplotlib.pyplot as plt\n",
    "from sklearn.neural_network import MLPClassifier\n",
    "from sklearn.svm import SVC\n",
    "from sklearn.ensemble import RandomForestClassifier\n",
    "from sklearn.model_selection import KFold\n",
    "from sklearn.model_selection import cross_val_score\n",
    "from sklearn.model_selection import train_test_split"
   ]
  },
  {
   "cell_type": "code",
   "execution_count": 3,
   "metadata": {},
   "outputs": [],
   "source": [
    "#一些前置的函数\n",
    "#用于纵向排布的数据获取\n",
    "def getParameter1(sheet, amount):\n",
    "    a = []\n",
    "    b = []\n",
    "    for i in range(1, amount + 1):\n",
    "        for ii in range(1, 33):\n",
    "            b.append(sheet.cell(row=ii, column=i).value)\n",
    "        a.append(b)\n",
    "        b = []\n",
    "    array = np.array(a)\n",
    "    return array\n",
    "\n",
    "#用于横向排布的数据获取\n",
    "def getParameter2(sheet, amount):\n",
    "    a = []\n",
    "    b = []\n",
    "    for i in range(1, amount + 1):\n",
    "        for ii in range(1, 33):\n",
    "            b.append(sheet.cell(row=i, column=ii).value)\n",
    "        a.append(b)\n",
    "        b = []\n",
    "    array = np.array(a)\n",
    "    return array\n",
    "\n",
    "#用于特殊排布的数据获取\n",
    "def getParameter3(sheet, amount):\n",
    "    a = []\n",
    "    b = []\n",
    "    for i in range(1, amount + 1):\n",
    "        for ii in range(1, 18): #第1列到第18列的参数\n",
    "            b.append(sheet.cell(row=i, column=ii).value)\n",
    "        for ii in range(23, 25):#第23列到25列的参数，以此类推\n",
    "            b.append(sheet.cell(row=i, column=ii).value)\n",
    "        for ii in range(26, 28):\n",
    "            b.append(sheet.cell(row=i, column=ii).value)\n",
    "        b.append(sheet.cell(row=i, column=32).value)\n",
    "        b.append(sheet.cell(row=i, column=41).value)\n",
    "        for ii in range(43, 45):\n",
    "            b.append(sheet.cell(row=i, column=ii).value)\n",
    "        for ii in range(48, 51):\n",
    "            b.append(sheet.cell(row=i, column=ii).value)\n",
    "        b.append(sheet.cell(row=i, column=58).value)\n",
    "        for ii in range(64, 67):\n",
    "            b.append(sheet.cell(row=i, column=ii).value)\n",
    "        a.append(b)\n",
    "        b = []\n",
    "    array = np.array(a)\n",
    "    return array\n",
    "\n",
    "def create_target(data, num, n, flag, Class):\n",
    "    if (flag=='BP'):\n",
    "        target_list = [[0, 0, 0, 0],\n",
    "                       [1, 0, 0, 0],\n",
    "                       [0, 1, 0, 0],\n",
    "                       [0, 0, 1, 0],\n",
    "                       [0, 0, 0, 1]]\n",
    "    elif(flag=='SVC'):\n",
    "        target_list = [0, 1, 2, 3, 4]\n",
    "        \n",
    "    L = []\n",
    "    \n",
    "    if (flag=='RF'):\n",
    "        target_list = [[0, 0, 0, 0],\n",
    "                       [1, 0, 0, 0],\n",
    "                       [0, 1, 0, 0],\n",
    "                       [0, 0, 1, 0],\n",
    "                       [0, 0, 0, 1]]\n",
    "        target_name = ['LD', 'LOCA', 'PORV', 'SGTR']\n",
    "        for i in range(n):\n",
    "            L.append(target_list[0])\n",
    "        for i in range(n, len(data)):\n",
    "            L.append(target_list[target_name.index(Class)+1])\n",
    "        a = np.array(L)\n",
    "    else:\n",
    "        for i in range(n):\n",
    "            L.append(target_list[0])\n",
    "        for i in range(n, len(data)):\n",
    "            L.append(target_list[num+1])\n",
    "        a = np.array(L)\n",
    "    return a\n"
   ]
  },
  {
   "cell_type": "markdown",
   "metadata": {},
   "source": [
    "![alt='datset'](img/dataset.png)"
   ]
  },
  {
   "cell_type": "code",
   "execution_count": 4,
   "metadata": {},
   "outputs": [],
   "source": [
    "class Data:\n",
    "    def __init__(self, name):\n",
    "        wb3 = openpyxl.load_workbook(\"EXPERIMENT DATA3.xlsx\")\n",
    "        LD100_sheet = wb3['LD100']\n",
    "        LOCA100_sheet = wb3['LOCA100']\n",
    "        PORV100_sheet = wb3['PORV100']\n",
    "        SGTR100_sheet = wb3['SGTR100']\n",
    "        NORMAL_sheet = wb3['NORMAL']\n",
    "        LD50_sheet = wb3['LD50']\n",
    "        LD20_sheet = wb3['LD20']\n",
    "        LD10_sheet = wb3['LD10']\n",
    "        LOCA50_sheet = wb3['LOCA50']\n",
    "        LOCA20_sheet = wb3['LOCA20']\n",
    "        LOCA10_sheet = wb3['LOCA10']\n",
    "        PORV50_sheet = wb3['PORV50']\n",
    "        PORV20_sheet = wb3['PORV20']\n",
    "        PORV10_sheet = wb3['PORV10']\n",
    "        SGTR50_sheet = wb3['SGTR50']\n",
    "        SGTR20_sheet = wb3['SGTR20']\n",
    "        SGTR10_sheet = wb3['SGTR10']\n",
    "        LD100 = getParameter1(LD100_sheet, 401)\n",
    "        LOCA100 = getParameter1(LOCA100_sheet, 96)\n",
    "        PORV100 = getParameter1(PORV100_sheet, 401)\n",
    "        SGTR100 = getParameter1(SGTR100_sheet, 401)\n",
    "        NORMAL = getParameter1(NORMAL_sheet, 401)\n",
    "        LD50 = getParameter3(LD50_sheet, 405)\n",
    "        LD20 = getParameter3(LD20_sheet, 406)\n",
    "        LD10 = getParameter3(LD10_sheet, 409)\n",
    "        LOCA50 = getParameter3(LOCA50_sheet, 405)\n",
    "        LOCA20 = getParameter3(LOCA20_sheet, 540)\n",
    "        LOCA10 = getParameter3(LOCA10_sheet, 402)\n",
    "        PORV50 = getParameter3(PORV50_sheet, 406)\n",
    "        PORV20 = getParameter3(PORV20_sheet, 406)\n",
    "        PORV10 = getParameter3(PORV10_sheet, 412)\n",
    "        SGTR50 = getParameter3(SGTR50_sheet, 406)\n",
    "        SGTR20 = getParameter3(SGTR20_sheet, 406)\n",
    "        SGTR10 = getParameter3(SGTR10_sheet, 407)\n",
    "        \n",
    "        data_LD = np.vstack((LD100, LD50, LD20, LD10))\n",
    "        data_LOCA = np.vstack((LOCA100, LOCA50, LOCA20, LOCA10))\n",
    "        data_PORV = np.vstack((PORV100, PORV50, PORV20, PORV10))\n",
    "        data_SGTR = np.vstack((SGTR100, SGTR50, SGTR20, SGTR10))\n",
    "        \n",
    "        self.dataset = np.vstack((data_LD, data_LOCA, data_PORV, data_SGTR))\n",
    "        data_list = {'LD100':LD100, 'LD50':LD50, 'LD20':LD20, 'LD10':LD10, \n",
    "                     'LOCA100':LOCA100, 'LOCA50':LOCA50, 'LOCA20':LOCA20, 'LOCA10':LOCA10,\n",
    "                     'PORV100':PORV100, 'PORV50':PORV50, 'PORV20':PORV20, 'PORV10':PORV10,\n",
    "                     'SGTR100':SGTR100, 'SGTR50':SGTR50, 'SGTR20':SGTR20, 'SGTR10':SGTR10}\n",
    "        \n",
    "        self.data_names = list(data_list.keys())\n",
    "        self.class_names = ['LD', 'LOCA', 'PORV', 'SGTR']\n",
    "        \n",
    "        LD100_target = create_target(LD100, 0, 22, name, 'LD')\n",
    "        LD50_target = create_target(LD50, 1, 5, name, 'LD')\n",
    "        LD20_target = create_target(LD20, 2, 5, name, 'LD')\n",
    "        LD10_target = create_target(LD10, 3, 5, name, 'LD')\n",
    "        \n",
    "        LOCA100_target = create_target(LOCA100, 0, 19, name, 'LOCA')\n",
    "        LOCA50_target = create_target(LOCA50, 1, 5, name, 'LOCA')\n",
    "        LOCA20_target = create_target(LOCA20, 2, 5, name, 'LOCA')\n",
    "        LOCA10_target = create_target(LOCA10, 3, 5, name, 'LOCA')\n",
    "        \n",
    "        PORV100_target = create_target(PORV100, 0, 34, name, 'PORV')\n",
    "        PORV50_target = create_target(PORV50, 1, 5, name, 'PORV')\n",
    "        PORV20_target = create_target(PORV20, 2, 5, name, 'PORV')\n",
    "        PORV10_target = create_target(PORV10, 3, 5, name, 'PORV')\n",
    "        \n",
    "        SGTR100_target = create_target(SGTR100, 0, 18, name, 'SGTR')\n",
    "        SGTR50_target = create_target(SGTR50, 1, 5, name, 'SGTR')\n",
    "        SGTR20_target = create_target(SGTR20, 2, 5, name, 'SGTR')\n",
    "        SGTR10_target = create_target(SGTR10, 3, 5, name, 'SGTR')\n",
    "        \n",
    "        if (name == 'BP' or name == 'RF'):\n",
    "            self.targetset = np.vstack((LD100_target, LD50_target, LD20_target, LD10_target,\n",
    "                                        LOCA100_target, LOCA50_target, LOCA20_target, LOCA10_target,\n",
    "                                        PORV100_target, PORV50_target, PORV20_target, PORV10_target,\n",
    "                                        SGTR100_target, SGTR50_target, SGTR20_target, SGTR10_target))\n",
    "        elif (name == 'SVC'):\n",
    "            self.targetset = np.hstack((LD100_target, LD50_target, LD20_target, LD10_target,\n",
    "                                        LOCA100_target, LOCA50_target, LOCA20_target, LOCA10_target,\n",
    "                                        PORV100_target, PORV50_target, PORV20_target, PORV10_target,\n",
    "                                        SGTR100_target, SGTR50_target, SGTR20_target, SGTR10_target))\n",
    "            \n",
    "        self.search = [0]\n",
    "        for i in range(1, 17):\n",
    "            self.search.append(0)\n",
    "            self.search[i] = self.search[i-1] + len(list(data_list.values())[i-1])\n",
    "        \n",
    "        \n",
    "        self.parameter_names = []\n",
    "        para_sheet = wb3['PARAMETER']\n",
    "        for i in range(1, 33):\n",
    "            value = para_sheet.cell(row=i, column=1).value\n",
    "            self.parameter_names.append(value)\n",
    "        \n",
    "        if (name == 'BP'):\n",
    "            self.Delete_time()\n",
    "            self.Preprocessing_for_BP\n",
    "        \n",
    "        self.keys = ['dataset', 'targetset', 'search', 'data_names', 'class_names', \n",
    "                     'parameter_names']\n",
    "    \n",
    "    def get_array(self, name):\n",
    "        index = self.data_names.index(name)\n",
    "        return (self.dataset[self.search[index]:self.search[index+1]], \n",
    "               self.targetset [self.search[index]:self.search[index+1]])\n",
    "    \n",
    "    def get_class(self, name):\n",
    "        index = self.class_names.index(name)\n",
    "        start = index * 4\n",
    "        end = (index + 1) * 4 \n",
    "        return (self.dataset[self.search[start]:self.search[end]],\n",
    "               self.targetset [self.search[start]:self.search[end]])\n",
    "    \n",
    "    def Preprocessing_for_BP(self):\n",
    "        mean = self.dataset.mean(axis=0)\n",
    "        std = self.dataset.std(axis=0)\n",
    "        self.dataset = (self.dataset-mean)/std\n",
    "        for i in range(len(self.dataset)):\n",
    "            for ii in range(len(self.dataset[i])):\n",
    "                if (np.isnan(self.dataset[i][ii])):\n",
    "                    self.dataset[i, ii] = 0\n",
    "                    \n",
    "    def Preprocessing_for_SVC(self):\n",
    "        max_val = self.dataset.max(axis=0)\n",
    "        min_val = self.dataset.min(axis=0)\n",
    "        distance = max_val - min_val\n",
    "        self.dataset = (self.dataset - min_val)/distance\n",
    "        for i in range(len(self.dataset)):\n",
    "            for ii in range(len(self.dataset[i])):\n",
    "                if (np.isnan(self.dataset[i][ii])):\n",
    "                    self.dataset[i, ii] = 0\n",
    "            \n",
    "                    \n",
    "    def Delete_time(self):\n",
    "        self.dataset = np.delete(self.dataset, [0], axis=1)\n",
    "        \n"
   ]
  },
  {
   "cell_type": "markdown",
   "metadata": {},
   "source": [
    "## 随机森林"
   ]
  },
  {
   "cell_type": "markdown",
   "metadata": {},
   "source": [
    "> ### 决策树模型\n",
    "> - CART决策树生成判断条件的方法：   \n",
    "    > ![alit='Gini'](img/Gini.png)    \n",
    "> - 决策树模型如下：\n",
    "    > ![alt='decition_tree'](img/decision_tree.png)\n",
    "> - 随机森林由多棵决策树构成。每棵决策树会采用`自助取样`的方法有放回地抽取相同数量的样本，并且每棵决策树只选取`部分的`且`不同的`样本参数传入模型学习。\n",
    "> -target为多标签时，会平均计算各个标签的值，取数值最大的标签作为输出。    \n",
    "例如，三棵决策树，且问题为3分类问题时，假设三棵决策树的输出分别为`[1, 0, 0]`、`[1, 0, 0]`、 `[0, 1, 0]`，则随机森林输出为`[0.6667, 0.3333, 0]`，最终输出为`[1, 0, 0]`"
   ]
  },
  {
   "cell_type": "markdown",
   "metadata": {},
   "source": [
    "> ### 训练方法\n",
    "> 运用随机森林模型预测`事故类型`。分别选取16个`事故序列`中75%的样本作为`训练集`传入`随机森林`学习，选取剩余的25%的样本作为`测试集`对模型的学习效果进行检验。"
   ]
  },
  {
   "cell_type": "code",
   "execution_count": 5,
   "metadata": {},
   "outputs": [],
   "source": [
    "#生成数据集\n",
    "data_RF = Data('RF')\n",
    "data_RF.Delete_time()"
   ]
  },
  {
   "cell_type": "code",
   "execution_count": 6,
   "metadata": {},
   "outputs": [
    {
     "data": {
      "text/plain": [
       "['dataset',\n",
       " 'targetset',\n",
       " 'search',\n",
       " 'data_names',\n",
       " 'class_names',\n",
       " 'parameter_names']"
      ]
     },
     "execution_count": 6,
     "metadata": {},
     "output_type": "execute_result"
    }
   ],
   "source": [
    "#展示数据集内容\n",
    "data_RF.keys"
   ]
  },
  {
   "cell_type": "code",
   "execution_count": 7,
   "metadata": {},
   "outputs": [
    {
     "name": "stdout",
     "output_type": "stream",
     "text": [
      "Score LD:0.9975369458128078\n",
      "Score LOCA:1.0\n",
      "Score PORV:1.0\n",
      "Score SGTR:1.0\n"
     ]
    }
   ],
   "source": [
    "#设置决策森林\n",
    "def Set_RF(estimator, random, feature, depth):\n",
    "    return RandomForestClassifier(n_estimators=estimator, random_state=random, max_features=feature, max_depth=depth)\n",
    "\n",
    "#测试函数\n",
    "def Test_RF(RF, data_type, random):\n",
    "    LD_array, LD_target = data_type.get_class('LD')\n",
    "    LOCA_array, LOCA_target = data_type.get_class('LOCA')\n",
    "    PORV_array, PORV_target = data_type.get_class('PORV')\n",
    "    SGTR_array, SGTR_target = data_type.get_class('SGTR')\n",
    "    \n",
    "    #利用train_test_split生成训练集、测试集\n",
    "    X_train_LD, X_test_LD, y_train_LD, y_test_LD = train_test_split(LD_array, LD_target, stratify=LD_target,\n",
    "                                                        shuffle=True, random_state=random)\n",
    "    X_train_LOCA, X_test_LOCA, y_train_LOCA, y_test_LOCA = train_test_split(LOCA_array, LOCA_target, stratify=LOCA_target,\n",
    "                                                        shuffle=True, random_state=random)\n",
    "    X_train_PORV, X_test_PORV, y_train_PORV, y_test_PORV = train_test_split(PORV_array, PORV_target, stratify=PORV_target,\n",
    "                                                        shuffle=True, random_state=random)\n",
    "    X_train_SGTR, X_test_SGTR, y_train_SGTR, y_test_SGTR = train_test_split(SGTR_array, SGTR_target, stratify=SGTR_target,\n",
    "                                                        shuffle=True, random_state=random)\n",
    "    X_train = np.vstack((X_train_LD, X_train_LOCA, X_train_PORV, X_train_SGTR))\n",
    "    y_train = np.vstack((y_train_LD, y_train_LOCA, y_train_PORV, y_train_SGTR))\n",
    "    \n",
    "    #训练模型并预测结果\n",
    "    RF.fit(X_train, y_train)\n",
    "    prediction_LD = RF.predict(X_test_LD)\n",
    "    prediction_LOCA = RF.predict(X_test_LOCA)\n",
    "    prediction_PORV = RF.predict(X_test_PORV)\n",
    "    prediction_SGTR = RF.predict(X_test_SGTR)\n",
    "    score_LD = RF.score(X_test_LD, y_test_LD)\n",
    "    score_LOCA = RF.score(X_test_LOCA, y_test_LOCA)\n",
    "    score_PORV = RF.score(X_test_PORV, y_test_PORV)\n",
    "    score_SGTR = RF.score(X_test_SGTR, y_test_SGTR)\n",
    "    print('Score LD:{}'.format(score_LD))\n",
    "    print('Score LOCA:{}'.format(score_LOCA))\n",
    "    print('Score PORV:{}'.format(score_PORV))\n",
    "    print('Score SGTR:{}'.format(score_SGTR))\n",
    "\n",
    "RF = Set_RF(15, 0, 20, 10)\n",
    "Test_RF(RF, data_RF, 0)"
   ]
  },
  {
   "cell_type": "markdown",
   "metadata": {},
   "source": [
    "> ### 学习完成的某棵决策树\n",
    "![alt='RF1'](img/RF1.png)"
   ]
  },
  {
   "cell_type": "markdown",
   "metadata": {},
   "source": [
    "> ### 输出参数重要程度"
   ]
  },
  {
   "cell_type": "code",
   "execution_count": 7,
   "metadata": {},
   "outputs": [
    {
     "data": {
      "image/png": "[encoded data removed]",
      "text/plain": [
       "<Figure size 432x576 with 1 Axes>"
      ]
     },
     "metadata": {
      "needs_background": "light"
     },
     "output_type": "display_data"
    },
    {
     "data": {
      "image/png": "[encoded data removed]",
      "text/plain": [
       "<Figure size 432x576 with 1 Axes>"
      ]
     },
     "metadata": {
      "needs_background": "light"
     },
     "output_type": "display_data"
    }
   ],
   "source": [
    "#随机森林属性 RF.feature_importances_\n",
    "def plot_feature_importances(model, title):\n",
    "    plt.figure(figsize=(6, 8))\n",
    "    plt.barh(range(31), model.feature_importances_, align='center')\n",
    "    plt.yticks(np.arange(31), title)\n",
    "    plt.xlabel('Feature importances')\n",
    "    plt.ylabel('Feature')\n",
    "    plt.show\n",
    "     \n",
    "plot_feature_importances(RF[0], data_RF.parameter_names) \n",
    "plot_feature_importances(RF, data_RF.parameter_names)"
   ]
  },
  {
   "cell_type": "markdown",
   "metadata": {},
   "source": [
    "## BP神经网络"
   ]
  },
  {
   "cell_type": "markdown",
   "metadata": {},
   "source": [
    "> - ### 多层感知机模型\n",
    "    > ![alt='MLP](img/MLP.png)\n",
    "> - ### 神经元   \n",
    "    > 输入：线性加和    \n",
    "    > 输出：激活函数——双曲正切函数    \n",
    "    ![alt='Nerve'](img/nerve.png)\n",
    "    ![alt='tanh'](img/tanh.png)\n",
    "> - ### 调参\n",
    "    > `alpha`：影响正则化对模型线性部分的影响。与正则化程度成反比，与模型复杂程度成正比。    \n",
    "    > `hidden_layer_sizes`：模型神经元层数以及各层神经元个数，与模型复杂程度成正比。\n",
    "> - ### 预处理    \n",
    "    > 所有数据进行标准化处理。处理后样本集的方差为1，均值为0。    \n",
    "    > ![alt='Preprocessing1'](img/Preprocessing1.png)"
   ]
  },
  {
   "cell_type": "markdown",
   "metadata": {},
   "source": [
    "> ### 训练方法    \n",
    "运用MLP预测`事故严重程度`。建立4个MLP模型，分别传入4种`事故类型`数据样本的75%作为4个模型的`训练集`，剩余25%作为`测试集`测试模型精度。"
   ]
  },
  {
   "cell_type": "code",
   "execution_count": 8,
   "metadata": {},
   "outputs": [],
   "source": [
    "#生成数据集\n",
    "data_BP = Data('BP')\n",
    "data_BP.Delete_time()\n",
    "data_BP.Preprocessing_for_BP()"
   ]
  },
  {
   "cell_type": "code",
   "execution_count": 9,
   "metadata": {},
   "outputs": [
    {
     "name": "stdout",
     "output_type": "stream",
     "text": [
      "Score:0.9482758620689655\n",
      "Score:0.9695290858725761\n",
      "Score:0.9287469287469288\n",
      "Score:0.9629629629629629\n"
     ]
    },
    {
     "data": {
      "text/plain": [
       "(0.9629629629629629,\n",
       " array([[0, 0, 1, 0],\n",
       "        [0, 0, 0, 1],\n",
       "        [1, 0, 0, 0],\n",
       "        ...,\n",
       "        [1, 0, 0, 0],\n",
       "        [0, 1, 0, 0],\n",
       "        [1, 0, 0, 0]]))"
      ]
     },
     "execution_count": 9,
     "metadata": {},
     "output_type": "execute_result"
    }
   ],
   "source": [
    "#设置BP网络\n",
    "def Set_BP(layer, random):\n",
    "    return MLPClassifier(solver='lbfgs', activation='tanh', random_state=random,\n",
    "                         hidden_layer_sizes=layer, alpha=1, max_iter=3000)\n",
    "\n",
    "#测试BP网络\n",
    "def Test_BP(BP, data, target, random):\n",
    "    X_train, X_test, y_train, y_test = train_test_split(data, target, stratify=target,\n",
    "                                                        shuffle=True, random_state=random)\n",
    "    BP.fit(X_train, y_train)\n",
    "    prediction = BP.predict(X_test)\n",
    "    score = BP.score(X_test, y_test)\n",
    "    print('Score:{}'.format(score))\n",
    "    return score, prediction\n",
    "\n",
    "LD_BP = Set_BP([100], 0)\n",
    "LOCA_BP = Set_BP([100], 0)\n",
    "PORV_BP = Set_BP([100], 0)\n",
    "SGTR_BP = Set_BP([100], 0)\n",
    "\n",
    "LD_array, LD_target = data_BP.get_class('LD')\n",
    "LOCA_array, LOCA_target = data_BP.get_class('LOCA')\n",
    "PORV_array, PORV_target = data_BP.get_class('PORV')\n",
    "SGTR_array, SGTR_target = data_BP.get_class('SGTR')\n",
    "\n",
    "Test_BP(LD_BP, LD_array, LD_target, 0)\n",
    "Test_BP(LOCA_BP, LOCA_array, LOCA_target, 0)\n",
    "Test_BP(PORV_BP, PORV_array, PORV_target, 0)\n",
    "Test_BP(SGTR_BP, SGTR_array, SGTR_target, 0)"
   ]
  },
  {
   "cell_type": "markdown",
   "metadata": {},
   "source": [
    "##### 随参数的变化敏感，调参复杂，但学习上限很高    \n",
    "![alt='PORV_BP'](img/PORV_BP.png)"
   ]
  },
  {
   "cell_type": "markdown",
   "metadata": {},
   "source": [
    "## RBF核SVC"
   ]
  },
  {
   "cell_type": "markdown",
   "metadata": {},
   "source": [
    "> - ### 模型基本原理\n",
    "    > 模型训练的过程中，在训练集中寻找合适的样本点作为`支持向量`。预测时计算样本点到`支持向量`的距离，以此为依据判断`测试集`样本点的类型。\n",
    "> - ### 高斯核（RBF）半径\n",
    "    > 计算样本点到支持向量的一种方式。\n",
    "> - ### 调参\n",
    "    > `C`:正则化对模型决策边界的影响。与正则化程度成反比，与模型复杂程度成正比。    \n",
    "    > `gamma`:高斯核半径的距离。与高斯核半径成反比，与模型复杂程度成正比。\n",
    "> - ### 预处理\n",
    "    > 所有数据量纲统一化，转化为某个特征的百分比。    \n",
    "    > ![alt='Preprocessing2'](img/Preprocessing2.png)"
   ]
  },
  {
   "cell_type": "markdown",
   "metadata": {},
   "source": [
    "> ### 训练方法\n",
    "    > 与BP神经网络相同。"
   ]
  },
  {
   "cell_type": "code",
   "execution_count": 10,
   "metadata": {},
   "outputs": [],
   "source": [
    "#生成数据集\n",
    "data_SVC = Data('SVC')\n",
    "data_SVC.Delete_time()\n",
    "data_SVC.Preprocessing_for_SVC()"
   ]
  },
  {
   "cell_type": "code",
   "execution_count": 11,
   "metadata": {},
   "outputs": [
    {
     "name": "stdout",
     "output_type": "stream",
     "text": [
      "Score:0.9778325123152709\n",
      "Score:0.9944598337950139\n",
      "Score:0.9877149877149877\n",
      "Score:1.0\n"
     ]
    },
    {
     "data": {
      "text/plain": [
       "(1.0,\n",
       " array([4, 1, 3, 3, 1, 2, 3, 4, 3, 3, 3, 3, 1, 2, 4, 2, 4, 1, 1, 1, 2, 2,\n",
       "        1, 2, 1, 4, 1, 1, 1, 2, 2, 2, 3, 1, 3, 4, 3, 3, 3, 1, 1, 1, 1, 1,\n",
       "        4, 4, 3, 1, 1, 3, 4, 3, 2, 3, 1, 1, 4, 1, 4, 4, 2, 2, 4, 4, 1, 1,\n",
       "        2, 4, 4, 4, 2, 1, 4, 2, 1, 2, 2, 3, 3, 3, 1, 4, 4, 2, 4, 3, 3, 4,\n",
       "        2, 3, 2, 1, 4, 4, 3, 4, 3, 3, 1, 3, 4, 1, 1, 4, 1, 4, 4, 4, 4, 1,\n",
       "        1, 4, 4, 3, 1, 1, 2, 1, 3, 2, 2, 0, 4, 1, 4, 3, 2, 4, 3, 4, 1, 4,\n",
       "        1, 4, 2, 2, 3, 2, 1, 3, 3, 3, 4, 1, 2, 2, 2, 2, 4, 4, 2, 4, 3, 2,\n",
       "        2, 2, 3, 4, 0, 2, 4, 3, 4, 2, 3, 1, 2, 3, 2, 3, 3, 4, 4, 4, 2, 4,\n",
       "        3, 3, 2, 1, 2, 4, 3, 4, 2, 3, 3, 1, 2, 2, 1, 2, 4, 2, 2, 1, 4, 1,\n",
       "        0, 1, 3, 2, 1, 3, 3, 4, 1, 0, 3, 4, 1, 2, 4, 1, 2, 2, 2, 3, 3, 2,\n",
       "        1, 1, 1, 1, 1, 4, 3, 2, 2, 2, 3, 2, 4, 4, 2, 3, 3, 4, 1, 1, 1, 1,\n",
       "        2, 3, 3, 1, 2, 1, 2, 2, 3, 2, 2, 3, 0, 4, 3, 4, 3, 1, 4, 3, 3, 4,\n",
       "        1, 3, 4, 4, 4, 4, 4, 2, 4, 3, 4, 1, 4, 1, 1, 1, 3, 4, 4, 1, 1, 3,\n",
       "        2, 2, 4, 1, 2, 2, 1, 1, 2, 3, 1, 1, 3, 1, 3, 2, 1, 3, 1, 4, 1, 2,\n",
       "        2, 4, 2, 3, 2, 4, 1, 4, 1, 3, 2, 4, 4, 3, 4, 1, 2, 1, 4, 2, 3, 1,\n",
       "        3, 2, 3, 2, 3, 2, 2, 3, 3, 0, 2, 3, 2, 1, 2, 4, 4, 3, 2, 1, 3, 2,\n",
       "        3, 1, 2, 2, 4, 4, 3, 4, 2, 2, 2, 2, 1, 2, 0, 4, 1, 3, 4, 3, 4, 3,\n",
       "        3, 2, 2, 2, 3, 4, 3, 3, 1, 4, 4, 3, 2, 4, 3, 4, 1, 3, 2, 4, 3, 3,\n",
       "        0, 1, 3, 1, 4, 4, 4, 3, 1]))"
      ]
     },
     "execution_count": 11,
     "metadata": {},
     "output_type": "execute_result"
    }
   ],
   "source": [
    "#生成SVC模型\n",
    "def Set_SVC(C_para, gamma_para):\n",
    "    return SVC(kernel='rbf', C=C_para, gamma=gamma_para)\n",
    "\n",
    "#测试SVC\n",
    "def Test_SVC(SVC, data, target, random):\n",
    "    X_train, X_test, y_train, y_test = train_test_split(data, target, stratify=target,\n",
    "                                                        shuffle=True, random_state=random)\n",
    "    SVC.fit(X_train, y_train)\n",
    "    prediction = SVC.predict(X_test)\n",
    "    score = SVC.score(X_test, y_test)\n",
    "    print('Score:{}'.format(score))\n",
    "    return score, prediction\n",
    "\n",
    "LD_SVC = Set_SVC(500, 5)\n",
    "LOCA_SVC = Set_SVC(400, 10)\n",
    "PORV_SVC = Set_SVC(200, 12)\n",
    "SGTR_SVC = Set_SVC(200, 10)\n",
    "\n",
    "LD_array2, LD_target2 = data_SVC.get_class('LD')\n",
    "LOCA_array2, LOCA_target2 = data_SVC.get_class('LOCA')\n",
    "PORV_array2, PORV_target2 = data_SVC.get_class('PORV')\n",
    "SGTR_array2, SGTR_target2 = data_SVC.get_class('SGTR')\n",
    "\n",
    "Test_SVC(LD_SVC, LD_array2, LD_target2, 0)\n",
    "Test_SVC(LOCA_SVC, LOCA_array2, LOCA_target2, 0)\n",
    "Test_SVC(PORV_SVC, PORV_array2, PORV_target2, 0)\n",
    "Test_SVC(SGTR_SVC, SGTR_array2, SGTR_target2, 0)"
   ]
  },
  {
   "cell_type": "markdown",
   "metadata": {},
   "source": [
    "![alt='PORV_RBFSVC'](img/PORV_RBFSVC.png)"
   ]
  },
  {
   "cell_type": "markdown",
   "metadata": {},
   "source": [
    "> ## 总结\n",
    "    > - 模型的选择与调参的设定应该根据样本集的具体特征和应用场景而定。\n",
    "    > > - 确保识别精度高的情况下识别速度尽可能快————最理想的情况下使用线性模型进行判断    \n",
    "    > > - 不同事故类型的样本点之间界线分明，可使用较为简单的线性模型\n",
    "    > > - 相同事故不同严重程度的样本点之间界限不是非常明确，故应牺牲一些模型简化程度（识别精度与识别速度），用复杂的非线性模型进行判断\n",
    "    > - 模型可解释性排名：随机森林、SVC、BP神经网络\n",
    "    > > 模型的可解释性影响了模型进一步修改参数的难度\n",
    "    > - 模型的求解算法会略微影响模型的复杂程度和模型的预测效果。根据具体情况可留意一下"
   ]
  },
  {
   "cell_type": "markdown",
   "metadata": {},
   "source": [
    "> ## 参考\n",
    "> sklearn官方文档：<https://scikit-learn.org/stable/index.html>    \n",
    "> 本次讲演的所有文档：<https://github.com/chunsen314/python_learning.git>"
   ]
  }
 ],
 "metadata": {
  "kernelspec": {
   "display_name": "Python 3",
   "language": "python",
   "name": "python3"
  },
  "language_info": {
   "codemirror_mode": {
    "name": "ipython",
    "version": 3
   },
   "file_extension": ".py",
   "mimetype": "text/x-python",
   "name": "python",
   "nbconvert_exporter": "python",
   "pygments_lexer": "ipython3",
   "version": "3.7.6"
  }
 },
 "nbformat": 4,
 "nbformat_minor": 4
}
